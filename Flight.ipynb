{
 "cells": [
  {
   "cell_type": "markdown",
   "metadata": {},
   "source": [
    "## Flight Features"
   ]
  },
  {
   "cell_type": "markdown",
   "metadata": {},
   "source": [
    "LAgent is able to： \n",
    "1. show the historical average monthly flight price to help user decide the time for the LA trip based on the departure city\n",
    "2. show the historical and estimated on-time rate based on user's preference of airline, so that the user can estimate their on-time rate\n",
    "\n",
    "Specifically, LAgent can:\n",
    "Feature 1.0: ask users for the departure city \n",
    "Feature 1.1: show the average monthly airline price from the departure city the user selected to LAX airport by table and visulization\n",
    "Feature 2.0: ask users for the airline he/she would like to talke\n",
    "Feature 2.1: show the historical and predicted flight on-time rate based on time series algorithm \n",
    "     "
   ]
  },
  {
   "cell_type": "code",
   "execution_count": 6,
   "metadata": {},
   "outputs": [],
   "source": [
    "# import necessary package\n",
    "import bs4\n",
    "import requests\n",
    "import numpy as np\n",
    "import pandas as pd"
   ]
  },
  {
   "cell_type": "markdown",
   "metadata": {},
   "source": [
    "#### Function 1: Data preparation"
   ]
  },
  {
   "cell_type": "code",
   "execution_count": 7,
   "metadata": {},
   "outputs": [],
   "source": [
    "# the web show the airfare history from Detroit to Los Angeles\n",
    "url = \"https://www.faredetective.com/farehistory/flights-from-Detroit-DTW-to-Los_Angeles-LAX.html\""
   ]
  },
  {
   "cell_type": "code",
   "execution_count": 8,
   "metadata": {},
   "outputs": [],
   "source": [
    "# set up requests to grab content form the url, and set it as a Beautiful Soup object.\n",
    "try:\n",
    "    response = requests.get(url)\n",
    "    response.raise_for_status()\n",
    "except:\n",
    "    print('exception')\n",
    "\n",
    "soup = bs4.BeautifulSoup(response.content, 'html.parser')"
   ]
  },
  {
   "cell_type": "code",
   "execution_count": 132,
   "metadata": {},
   "outputs": [],
   "source": [
    "# use Beautiful Soup to search for the city name and the corresponding links\n",
    "city_selector = soup.select('table[class=\"table table-history\"]')\n",
    "cities = city_selector[0].select('a')\n",
    "\n",
    "# Get the dictionary for city name and its corresponding web page for airfare information\n",
    "city_links = []\n",
    "city_name = []\n",
    "for city in cities:\n",
    "    city_links.append(city.get('href'))\n",
    "    long_name = city.get('href').split('/')[4]\n",
    "    name = long_name.split('-')[2]\n",
    "    city_name.append(name)\n",
    "    \n",
    "# show the result\n",
    "city_web = dict(zip(city_name, city_links))\n",
    "cities = sorted(list(city_web.keys()))"
   ]
  },
  {
   "cell_type": "markdown",
   "metadata": {},
   "source": [
    "#### Function 1: Combine the data"
   ]
  },
  {
   "cell_type": "code",
   "execution_count": 101,
   "metadata": {},
   "outputs": [],
   "source": [
    "# download the city csv files and store them in the Data file\n",
    "# define a function to read each files and change the index and column name\n",
    "# for files which has multiple record for one month, calculate the mean of the airfare; \n",
    "# for example, Atlanta has three records for Oct 2017, which will tranform to one record by calculating the average. \n",
    "def table_transformation(i):\n",
    "    df = pd.read_csv(files[i])\n",
    "    df['month'] = df['year'].str[:3]\n",
    "    df['year'] = df['year'].str[-4:]\n",
    "    df.set_index(['year','month'], inplace = True)\n",
    "    new_column = files[i][5: -4]\n",
    "    df.rename(columns = {'price' : new_column}, inplace = True )\n",
    "    df = df.mean(level= [0,1])\n",
    "    return df"
   ]
  },
  {
   "cell_type": "code",
   "execution_count": 157,
   "metadata": {},
   "outputs": [],
   "source": [
    "import glob\n",
    "files = glob.glob('Data/*.csv')\n",
    "#print(files)\n",
    "\n",
    "airfare = table_transformation(0)\n",
    "no_data = []\n",
    "\n",
    "for i in list(range(1, len(files))):\n",
    "    try:\n",
    "        new_df = table_transformation(i)\n",
    "        airfare = airfare.add(new_df, fill_value=0)\n",
    "    except:\n",
    "        no_data.append(files[i])\n",
    "        \n",
    "recent_airfare = airfare.loc[['2017', '2018']]\n"
   ]
  },
  {
   "cell_type": "markdown",
   "metadata": {},
   "source": [
    "#### Function 1: show the historical average monthly flight price "
   ]
  },
  {
   "cell_type": "code",
   "execution_count": null,
   "metadata": {},
   "outputs": [],
   "source": [
    "# get user input for the departure city \n",
    "print(\"***********************************\")\n",
    "print(\"Please choose your departure city: \")\n",
    "for index, city in enumerate(cities):\n",
    "        print(index + 1, city)\n",
    "\n",
    "inp = input(\"Please return the index (1 to 57) for your departure city.\")\n",
    "while (int(inp.strip()) >= 58 or int(inp.strip()) <= 0 ):\n",
    "    inp = input(\"Invalid input. Please return the index (1 to 57) for your departure city.\")\n",
    "\n",
    "# get the airfare from 2017 to 2018 based on departure city given by users\n",
    "user_airfare = recent_airfare[cities[int(inp.strip())- 1]]\n",
    "print(user_airfare)\n"
   ]
  },
  {
   "cell_type": "code",
   "execution_count": null,
   "metadata": {},
   "outputs": [],
   "source": []
  }
 ],
 "metadata": {
  "kernelspec": {
   "display_name": "Python 3",
   "language": "python",
   "name": "python3"
  },
  "language_info": {
   "codemirror_mode": {
    "name": "ipython",
    "version": 3
   },
   "file_extension": ".py",
   "mimetype": "text/x-python",
   "name": "python",
   "nbconvert_exporter": "python",
   "pygments_lexer": "ipython3",
   "version": "3.6.5"
  }
 },
 "nbformat": 4,
 "nbformat_minor": 2
}
