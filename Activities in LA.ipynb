{
 "cells": [
  {
   "cell_type": "code",
   "execution_count": 233,
   "metadata": {},
   "outputs": [],
   "source": [
    "url = \"https://www.discoverlosangeles.com/experience-builder?region%5B%5D=54&type%5B%5D=15&selected-region%5B%5D=54&sort=+=\""
   ]
  },
  {
   "cell_type": "code",
   "execution_count": 234,
   "metadata": {},
   "outputs": [],
   "source": [
    "#import packages\n",
    "from urllib.parse import urljoin \n",
    "from urllib.request import urlretrieve\n",
    "import bs4\n",
    "import requests"
   ]
  },
  {
   "cell_type": "code",
   "execution_count": 235,
   "metadata": {},
   "outputs": [],
   "source": [
    "try:\n",
    "    response=requests.get(url)\n",
    "    response.raise_for_status()\n",
    "except:\n",
    "    print('exception')    "
   ]
  },
  {
   "cell_type": "code",
   "execution_count": 236,
   "metadata": {},
   "outputs": [],
   "source": [
    "#Define methods\n",
    "def get_text_from_elements(elements):\n",
    "    return [e.text.strip() for e in elements]"
   ]
  },
  {
   "cell_type": "code",
   "execution_count": 237,
   "metadata": {},
   "outputs": [],
   "source": [
    "#Define methods\n",
    "def select(soup, selector):\n",
    "    code = soup.select(selector)\n",
    "    return code"
   ]
  },
  {
   "cell_type": "code",
   "execution_count": 238,
   "metadata": {},
   "outputs": [],
   "source": [
    "#parse html\n",
    "soup= bs4.BeautifulSoup(response.content, 'html.parser')"
   ]
  },
  {
   "cell_type": "code",
   "execution_count": 239,
   "metadata": {},
   "outputs": [
    {
     "data": {
      "text/plain": [
       "['2018 Make-A-Wish Greater Los Angeles Gala',\n",
       " 'Advice All House owners Ought To Know About Home Security Systems',\n",
       " 'Air Supply',\n",
       " 'Alisa Weilerstein, Cello',\n",
       " 'All You Need To Embellish Your Own Home',\n",
       " 'Alonzo King LINES Ballet',\n",
       " 'Amor Yu Productions presents Music Is Us',\n",
       " 'An Inspector Calls',\n",
       " 'Astuce Clash Of Clans France',\n",
       " 'ATE9 Dance Company',\n",
       " 'Best Hiking Boots For Men With Flat Feet',\n",
       " 'Beverly Hills ArtShow (OPENING DAY)',\n",
       " 'Black Beauty',\n",
       " 'Can Be Your Garden Looking Dowdy? Brighten up It Using This Type Of',\n",
       " 'Cheap Nike Texans 99 J.j. Watt Pink Draft Him Name & Number Top']"
      ]
     },
     "execution_count": 239,
     "metadata": {},
     "output_type": "execute_result"
    }
   ],
   "source": [
    "#web scraping event names in Beverly Hills\n",
    "a=select(soup,'h3')\n",
    "title=get_text_from_elements(a)\n",
    "title"
   ]
  },
  {
   "cell_type": "code",
   "execution_count": 240,
   "metadata": {},
   "outputs": [
    {
     "data": {
      "text/plain": [
       "['Beverly Hilton Hotel',\n",
       " 'Discover L.A. online',\n",
       " 'The Saban',\n",
       " 'The Wallis Annenberg Center for the Performing Arts',\n",
       " 'Discover L.A. online',\n",
       " 'The Wallis Annenberg Center for the Performing Arts',\n",
       " 'The Saban',\n",
       " 'The Wallis Annenberg Center for the Performing Arts',\n",
       " 'Discover L.A. online',\n",
       " 'The Wallis Annenberg Center for the Performing Arts',\n",
       " 'Discover L.A. online',\n",
       " 'Beverly Gardens Park',\n",
       " 'Discover L.A. online',\n",
       " 'Discover L.A. online',\n",
       " 'Discover L.A. online']"
      ]
     },
     "execution_count": 240,
     "metadata": {},
     "output_type": "execute_result"
    }
   ],
   "source": [
    "#web scraping locations Beverly Hills\n",
    "a=select(soup,'h4')\n",
    "location=get_text_from_elements(a)\n",
    "missing_loc=[1,4,8,10,12,13,14]\n",
    "for i in missing_loc:\n",
    "    location[i]='Discover L.A. online'\n",
    "location"
   ]
  },
  {
   "cell_type": "code",
   "execution_count": 241,
   "metadata": {},
   "outputs": [
    {
     "data": {
      "text/plain": [
       "['October',\n",
       " 'August',\n",
       " 'April',\n",
       " 'November',\n",
       " 'October',\n",
       " 'All year',\n",
       " 'October',\n",
       " 'All year',\n",
       " 'April',\n",
       " 'All year',\n",
       " 'December',\n",
       " 'October',\n",
       " 'All year',\n",
       " 'May',\n",
       " 'June']"
      ]
     },
     "execution_count": 241,
     "metadata": {},
     "output_type": "execute_result"
    }
   ],
   "source": [
    "#web scraping dates(months) Beverly Hills\n",
    "a = soup.select('div[class=\"experience-pane-info\"]')\n",
    "dates = []\n",
    "for i in a:\n",
    "    b = i.select('span[class=\"date-display-single\"]')\n",
    "    dates.append(b[0].getText())\n",
    "\n",
    "c = [i.split(' ', 1)[0] for i in dates]\n",
    "c = [str(x) for x in c]\n",
    "month=['January','Febuary','March','April','May','June','July','August','September','October','November','December']\n",
    "for date in range(0,len(c)):\n",
    "    if c[date] not in month:\n",
    "        c[date]=\"All year\"\n",
    "c       "
   ]
  },
  {
   "cell_type": "code",
   "execution_count": 245,
   "metadata": {},
   "outputs": [
    {
     "data": {
      "text/html": [
       "<div>\n",
       "<style scoped>\n",
       "    .dataframe tbody tr th:only-of-type {\n",
       "        vertical-align: middle;\n",
       "    }\n",
       "\n",
       "    .dataframe tbody tr th {\n",
       "        vertical-align: top;\n",
       "    }\n",
       "\n",
       "    .dataframe thead th {\n",
       "        text-align: right;\n",
       "    }\n",
       "</style>\n",
       "<table border=\"1\" class=\"dataframe\">\n",
       "  <thead>\n",
       "    <tr style=\"text-align: right;\">\n",
       "      <th></th>\n",
       "      <th>Month</th>\n",
       "      <th>Location</th>\n",
       "      <th>Event</th>\n",
       "    </tr>\n",
       "  </thead>\n",
       "  <tbody>\n",
       "    <tr>\n",
       "      <th>0</th>\n",
       "      <td>October</td>\n",
       "      <td>Beverly Hilton Hotel</td>\n",
       "      <td>2018 Make-A-Wish Greater Los Angeles Gala</td>\n",
       "    </tr>\n",
       "    <tr>\n",
       "      <th>1</th>\n",
       "      <td>August</td>\n",
       "      <td>Discover L.A. online</td>\n",
       "      <td>Advice All House owners Ought To Know About Ho...</td>\n",
       "    </tr>\n",
       "    <tr>\n",
       "      <th>2</th>\n",
       "      <td>April</td>\n",
       "      <td>The Saban</td>\n",
       "      <td>Air Supply</td>\n",
       "    </tr>\n",
       "    <tr>\n",
       "      <th>3</th>\n",
       "      <td>November</td>\n",
       "      <td>The Wallis Annenberg Center for the Performing...</td>\n",
       "      <td>Alisa Weilerstein, Cello</td>\n",
       "    </tr>\n",
       "    <tr>\n",
       "      <th>4</th>\n",
       "      <td>October</td>\n",
       "      <td>Discover L.A. online</td>\n",
       "      <td>All You Need To Embellish Your Own Home</td>\n",
       "    </tr>\n",
       "    <tr>\n",
       "      <th>5</th>\n",
       "      <td>All year</td>\n",
       "      <td>The Wallis Annenberg Center for the Performing...</td>\n",
       "      <td>Alonzo King LINES Ballet</td>\n",
       "    </tr>\n",
       "    <tr>\n",
       "      <th>6</th>\n",
       "      <td>October</td>\n",
       "      <td>The Saban</td>\n",
       "      <td>Amor Yu Productions presents Music Is Us</td>\n",
       "    </tr>\n",
       "    <tr>\n",
       "      <th>7</th>\n",
       "      <td>All year</td>\n",
       "      <td>The Wallis Annenberg Center for the Performing...</td>\n",
       "      <td>An Inspector Calls</td>\n",
       "    </tr>\n",
       "    <tr>\n",
       "      <th>8</th>\n",
       "      <td>April</td>\n",
       "      <td>Discover L.A. online</td>\n",
       "      <td>Astuce Clash Of Clans France</td>\n",
       "    </tr>\n",
       "    <tr>\n",
       "      <th>9</th>\n",
       "      <td>All year</td>\n",
       "      <td>The Wallis Annenberg Center for the Performing...</td>\n",
       "      <td>ATE9 Dance Company</td>\n",
       "    </tr>\n",
       "    <tr>\n",
       "      <th>10</th>\n",
       "      <td>December</td>\n",
       "      <td>Discover L.A. online</td>\n",
       "      <td>Best Hiking Boots For Men With Flat Feet</td>\n",
       "    </tr>\n",
       "    <tr>\n",
       "      <th>11</th>\n",
       "      <td>October</td>\n",
       "      <td>Beverly Gardens Park</td>\n",
       "      <td>Beverly Hills ArtShow (OPENING DAY)</td>\n",
       "    </tr>\n",
       "    <tr>\n",
       "      <th>12</th>\n",
       "      <td>All year</td>\n",
       "      <td>Discover L.A. online</td>\n",
       "      <td>Black Beauty</td>\n",
       "    </tr>\n",
       "    <tr>\n",
       "      <th>13</th>\n",
       "      <td>May</td>\n",
       "      <td>Discover L.A. online</td>\n",
       "      <td>Can Be Your Garden Looking Dowdy? Brighten up ...</td>\n",
       "    </tr>\n",
       "    <tr>\n",
       "      <th>14</th>\n",
       "      <td>June</td>\n",
       "      <td>Discover L.A. online</td>\n",
       "      <td>Cheap Nike Texans 99 J.j. Watt Pink Draft Him ...</td>\n",
       "    </tr>\n",
       "  </tbody>\n",
       "</table>\n",
       "</div>"
      ],
      "text/plain": [
       "       Month                                           Location  \\\n",
       "0    October                               Beverly Hilton Hotel   \n",
       "1     August                               Discover L.A. online   \n",
       "2      April                                          The Saban   \n",
       "3   November  The Wallis Annenberg Center for the Performing...   \n",
       "4    October                               Discover L.A. online   \n",
       "5   All year  The Wallis Annenberg Center for the Performing...   \n",
       "6    October                                          The Saban   \n",
       "7   All year  The Wallis Annenberg Center for the Performing...   \n",
       "8      April                               Discover L.A. online   \n",
       "9   All year  The Wallis Annenberg Center for the Performing...   \n",
       "10  December                               Discover L.A. online   \n",
       "11   October                               Beverly Gardens Park   \n",
       "12  All year                               Discover L.A. online   \n",
       "13       May                               Discover L.A. online   \n",
       "14      June                               Discover L.A. online   \n",
       "\n",
       "                                                Event  \n",
       "0           2018 Make-A-Wish Greater Los Angeles Gala  \n",
       "1   Advice All House owners Ought To Know About Ho...  \n",
       "2                                          Air Supply  \n",
       "3                            Alisa Weilerstein, Cello  \n",
       "4             All You Need To Embellish Your Own Home  \n",
       "5                            Alonzo King LINES Ballet  \n",
       "6            Amor Yu Productions presents Music Is Us  \n",
       "7                                  An Inspector Calls  \n",
       "8                        Astuce Clash Of Clans France  \n",
       "9                                  ATE9 Dance Company  \n",
       "10           Best Hiking Boots For Men With Flat Feet  \n",
       "11                Beverly Hills ArtShow (OPENING DAY)  \n",
       "12                                       Black Beauty  \n",
       "13  Can Be Your Garden Looking Dowdy? Brighten up ...  \n",
       "14  Cheap Nike Texans 99 J.j. Watt Pink Draft Him ...  "
      ]
     },
     "execution_count": 245,
     "metadata": {},
     "output_type": "execute_result"
    }
   ],
   "source": [
    "#convert from a dictionary to a dataframe\n",
    "dic= dict(zip(title,zip(location,c)))\n",
    "import pandas as pd\n",
    "import numpy as np\n",
    "table=pd.DataFrame(dic)\n",
    "table = table.T\n",
    "table['Event'] = table.index\n",
    "table.index=np.arange(len(table))\n",
    "table = table.iloc[:,[1,0,2]]\n",
    "table.rename(columns = {1: 'Month',0:'Location'}, inplace = True)\n",
    "table"
   ]
  },
  {
   "cell_type": "code",
   "execution_count": 246,
   "metadata": {},
   "outputs": [],
   "source": [
    "url1 = \"https://www.discoverlosangeles.com/experience-builder?region%5B%5D=53&type%5B%5D=15&selected-type%5B%5D=15&sort=+=\""
   ]
  },
  {
   "cell_type": "code",
   "execution_count": 247,
   "metadata": {},
   "outputs": [],
   "source": [
    "#import packages\n",
    "try:\n",
    "    response=requests.get(url1)\n",
    "    response.raise_for_status()\n",
    "except:\n",
    "    print('exception')\n",
    "    "
   ]
  },
  {
   "cell_type": "code",
   "execution_count": 248,
   "metadata": {},
   "outputs": [],
   "source": [
    "#parse html\n",
    "soup= bs4.BeautifulSoup(response.content, 'html.parser')"
   ]
  },
  {
   "cell_type": "code",
   "execution_count": 249,
   "metadata": {},
   "outputs": [
    {
     "data": {
      "text/plain": [
       "['19 Before And After Weight Loss Pictures',\n",
       " '4th Ave',\n",
       " 'A John Waters Christmas with John Waters',\n",
       " 'Activities To Get Greater At Organic and natural Growing plants',\n",
       " 'Adidas And Spotify Offer Another Way To Soundtrack Your Run',\n",
       " 'Alec Benjamin',\n",
       " 'APIECE APART SAMPLE SALE',\n",
       " 'Appropriate Apparel For Men And Girls Researchers at the University',\n",
       " 'Autograph',\n",
       " 'Azizi Gibson',\n",
       " 'Basic Paintball Tactics - How Your Can Purchase The Paintball Field',\n",
       " 'Beach Bums',\n",
       " 'Beauty² Los Angeles: The Pop Up Beauty Event',\n",
       " 'Beyond Creative License: Navigating the Business of Entertainment',\n",
       " 'Black Veil Brides']"
      ]
     },
     "execution_count": 249,
     "metadata": {},
     "output_type": "execute_result"
    }
   ],
   "source": [
    "#web scraping event names in West Hollywood\n",
    "a1=select(soup,'h3')\n",
    "title1=get_text_from_elements(a1)\n",
    "title1"
   ]
  },
  {
   "cell_type": "code",
   "execution_count": 250,
   "metadata": {},
   "outputs": [
    {
     "data": {
      "text/plain": [
       "['Discover L.A. online',\n",
       " 'The Roxy',\n",
       " 'The World Famous Comedy Store',\n",
       " 'Discover L.A. online',\n",
       " 'Discover L.A. online',\n",
       " 'The Roxy',\n",
       " 'Discover L.A. online',\n",
       " 'Discover L.A. online',\n",
       " 'Whisky A Go Go',\n",
       " 'The Roxy',\n",
       " 'Discover L.A. online',\n",
       " 'The Roxy',\n",
       " 'Beauty² Los Angeles',\n",
       " 'Writers Guild of America, West',\n",
       " 'The Roxy']"
      ]
     },
     "execution_count": 250,
     "metadata": {},
     "output_type": "execute_result"
    }
   ],
   "source": [
    "#web scraping locations West Hollywood\n",
    "a1=select(soup,'h4')\n",
    "location1=get_text_from_elements(a1)\n",
    "missing_loc1=[0,3,4,6,7,10]\n",
    "for i in missing_loc1:\n",
    "    location1[i]='Discover L.A. online'\n",
    "location1"
   ]
  },
  {
   "cell_type": "code",
   "execution_count": 251,
   "metadata": {},
   "outputs": [
    {
     "data": {
      "text/plain": [
       "['May',\n",
       " 'October',\n",
       " 'December',\n",
       " 'August',\n",
       " 'May',\n",
       " 'December',\n",
       " 'All year',\n",
       " 'August',\n",
       " 'October',\n",
       " 'November',\n",
       " 'January',\n",
       " 'December',\n",
       " 'All year',\n",
       " 'October',\n",
       " 'October']"
      ]
     },
     "execution_count": 251,
     "metadata": {},
     "output_type": "execute_result"
    }
   ],
   "source": [
    "#web scraping dates(months) West Hollywood\n",
    "a1 = soup.select('div[class=\"experience-pane-info\"]')\n",
    "dates = []\n",
    "for i in a1:\n",
    "    b1 = i.select('span[class=\"date-display-single\"]')\n",
    "    dates.append(b1[0].getText())\n",
    "\n",
    "c1 = [i.split(' ', 1)[0] for i in dates]\n",
    "c1 = [str(x) for x in c1]\n",
    "month=['January','Febuary','March','April','May','June','July','August','September','October','November','December']\n",
    "for date in range(0,len(c1)):\n",
    "    if c1[date] not in month:\n",
    "        c1[date]=\"All year\"\n",
    "c1     "
   ]
  },
  {
   "cell_type": "code",
   "execution_count": 253,
   "metadata": {},
   "outputs": [
    {
     "data": {
      "text/html": [
       "<div>\n",
       "<style scoped>\n",
       "    .dataframe tbody tr th:only-of-type {\n",
       "        vertical-align: middle;\n",
       "    }\n",
       "\n",
       "    .dataframe tbody tr th {\n",
       "        vertical-align: top;\n",
       "    }\n",
       "\n",
       "    .dataframe thead th {\n",
       "        text-align: right;\n",
       "    }\n",
       "</style>\n",
       "<table border=\"1\" class=\"dataframe\">\n",
       "  <thead>\n",
       "    <tr style=\"text-align: right;\">\n",
       "      <th></th>\n",
       "      <th>Month</th>\n",
       "      <th>Location</th>\n",
       "      <th>Event</th>\n",
       "    </tr>\n",
       "  </thead>\n",
       "  <tbody>\n",
       "    <tr>\n",
       "      <th>0</th>\n",
       "      <td>May</td>\n",
       "      <td>Discover L.A. online</td>\n",
       "      <td>19 Before And After Weight Loss Pictures</td>\n",
       "    </tr>\n",
       "    <tr>\n",
       "      <th>1</th>\n",
       "      <td>October</td>\n",
       "      <td>The Roxy</td>\n",
       "      <td>4th Ave</td>\n",
       "    </tr>\n",
       "    <tr>\n",
       "      <th>2</th>\n",
       "      <td>December</td>\n",
       "      <td>The World Famous Comedy Store</td>\n",
       "      <td>A John Waters Christmas with John Waters</td>\n",
       "    </tr>\n",
       "    <tr>\n",
       "      <th>3</th>\n",
       "      <td>August</td>\n",
       "      <td>Discover L.A. online</td>\n",
       "      <td>Activities To Get Greater At Organic and natur...</td>\n",
       "    </tr>\n",
       "    <tr>\n",
       "      <th>4</th>\n",
       "      <td>May</td>\n",
       "      <td>Discover L.A. online</td>\n",
       "      <td>Adidas And Spotify Offer Another Way To Soundt...</td>\n",
       "    </tr>\n",
       "    <tr>\n",
       "      <th>5</th>\n",
       "      <td>December</td>\n",
       "      <td>The Roxy</td>\n",
       "      <td>Alec Benjamin</td>\n",
       "    </tr>\n",
       "    <tr>\n",
       "      <th>6</th>\n",
       "      <td>All year</td>\n",
       "      <td>Discover L.A. online</td>\n",
       "      <td>APIECE APART SAMPLE SALE</td>\n",
       "    </tr>\n",
       "    <tr>\n",
       "      <th>7</th>\n",
       "      <td>August</td>\n",
       "      <td>Discover L.A. online</td>\n",
       "      <td>Appropriate Apparel For Men And Girls Research...</td>\n",
       "    </tr>\n",
       "    <tr>\n",
       "      <th>8</th>\n",
       "      <td>October</td>\n",
       "      <td>Whisky A Go Go</td>\n",
       "      <td>Autograph</td>\n",
       "    </tr>\n",
       "    <tr>\n",
       "      <th>9</th>\n",
       "      <td>November</td>\n",
       "      <td>The Roxy</td>\n",
       "      <td>Azizi Gibson</td>\n",
       "    </tr>\n",
       "    <tr>\n",
       "      <th>10</th>\n",
       "      <td>January</td>\n",
       "      <td>Discover L.A. online</td>\n",
       "      <td>Basic Paintball Tactics - How Your Can Purchas...</td>\n",
       "    </tr>\n",
       "    <tr>\n",
       "      <th>11</th>\n",
       "      <td>December</td>\n",
       "      <td>The Roxy</td>\n",
       "      <td>Beach Bums</td>\n",
       "    </tr>\n",
       "    <tr>\n",
       "      <th>12</th>\n",
       "      <td>All year</td>\n",
       "      <td>Beauty² Los Angeles</td>\n",
       "      <td>Beauty² Los Angeles: The Pop Up Beauty Event</td>\n",
       "    </tr>\n",
       "    <tr>\n",
       "      <th>13</th>\n",
       "      <td>October</td>\n",
       "      <td>Writers Guild of America, West</td>\n",
       "      <td>Beyond Creative License: Navigating the Busine...</td>\n",
       "    </tr>\n",
       "    <tr>\n",
       "      <th>14</th>\n",
       "      <td>October</td>\n",
       "      <td>The Roxy</td>\n",
       "      <td>Black Veil Brides</td>\n",
       "    </tr>\n",
       "  </tbody>\n",
       "</table>\n",
       "</div>"
      ],
      "text/plain": [
       "       Month                        Location  \\\n",
       "0        May            Discover L.A. online   \n",
       "1    October                        The Roxy   \n",
       "2   December   The World Famous Comedy Store   \n",
       "3     August            Discover L.A. online   \n",
       "4        May            Discover L.A. online   \n",
       "5   December                        The Roxy   \n",
       "6   All year            Discover L.A. online   \n",
       "7     August            Discover L.A. online   \n",
       "8    October                  Whisky A Go Go   \n",
       "9   November                        The Roxy   \n",
       "10   January            Discover L.A. online   \n",
       "11  December                        The Roxy   \n",
       "12  All year             Beauty² Los Angeles   \n",
       "13   October  Writers Guild of America, West   \n",
       "14   October                        The Roxy   \n",
       "\n",
       "                                                Event  \n",
       "0            19 Before And After Weight Loss Pictures  \n",
       "1                                             4th Ave  \n",
       "2            A John Waters Christmas with John Waters  \n",
       "3   Activities To Get Greater At Organic and natur...  \n",
       "4   Adidas And Spotify Offer Another Way To Soundt...  \n",
       "5                                       Alec Benjamin  \n",
       "6                            APIECE APART SAMPLE SALE  \n",
       "7   Appropriate Apparel For Men And Girls Research...  \n",
       "8                                           Autograph  \n",
       "9                                        Azizi Gibson  \n",
       "10  Basic Paintball Tactics - How Your Can Purchas...  \n",
       "11                                         Beach Bums  \n",
       "12       Beauty² Los Angeles: The Pop Up Beauty Event  \n",
       "13  Beyond Creative License: Navigating the Busine...  \n",
       "14                                  Black Veil Brides  "
      ]
     },
     "execution_count": 253,
     "metadata": {},
     "output_type": "execute_result"
    }
   ],
   "source": [
    "#convert from a dictionary to a dataframe\n",
    "import pandas as pd\n",
    "import numpy as np\n",
    "dic1= dict(zip(title1,zip(location1,c1)))\n",
    "table1=pd.DataFrame(dic1)\n",
    "table1 = table1.T\n",
    "table1['Event'] = table1.index\n",
    "table1.index=np.arange(len(table1))\n",
    "table1 = table1.iloc[:,[1,0,2]]\n",
    "table1.rename(columns = {1: 'Month',0:'Location'}, inplace = True)\n",
    "table1"
   ]
  }
 ],
 "metadata": {
  "kernelspec": {
   "display_name": "Python 3",
   "language": "python",
   "name": "python3"
  },
  "language_info": {
   "codemirror_mode": {
    "name": "ipython",
    "version": 3
   },
   "file_extension": ".py",
   "mimetype": "text/x-python",
   "name": "python",
   "nbconvert_exporter": "python",
   "pygments_lexer": "ipython3",
   "version": "3.6.5"
  }
 },
 "nbformat": 4,
 "nbformat_minor": 2
}
